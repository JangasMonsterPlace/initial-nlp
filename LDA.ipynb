{
  "cells": [
    {
      "cell_type": "code",
      "execution_count": null,
      "metadata": {
        "colab": {
          "base_uri": "https://localhost:8080/"
        },
        "id": "2lmTJJbIN0HZ",
        "outputId": "5abd5a44-246c-4265-8f76-54137d2aee01"
      },
      "outputs": [
        {
          "name": "stdout",
          "output_type": "stream",
          "text": [
            "Requirement already satisfied: pyLDAvis in /usr/local/lib/python3.7/dist-packages (3.3.1)\n",
            "Requirement already satisfied: joblib in /usr/local/lib/python3.7/dist-packages (from pyLDAvis) (1.1.0)\n",
            "Requirement already satisfied: sklearn in /usr/local/lib/python3.7/dist-packages (from pyLDAvis) (0.0)\n",
            "Requirement already satisfied: future in /usr/local/lib/python3.7/dist-packages (from pyLDAvis) (0.16.0)\n",
            "Requirement already satisfied: setuptools in /usr/local/lib/python3.7/dist-packages (from pyLDAvis) (57.4.0)\n",
            "Requirement already satisfied: jinja2 in /usr/local/lib/python3.7/dist-packages (from pyLDAvis) (2.11.3)\n",
            "Requirement already satisfied: pandas>=1.2.0 in /usr/local/lib/python3.7/dist-packages (from pyLDAvis) (1.3.4)\n",
            "Requirement already satisfied: numexpr in /usr/local/lib/python3.7/dist-packages (from pyLDAvis) (2.7.3)\n",
            "Requirement already satisfied: scikit-learn in /usr/local/lib/python3.7/dist-packages (from pyLDAvis) (1.0.1)\n",
            "Requirement already satisfied: gensim in /usr/local/lib/python3.7/dist-packages (from pyLDAvis) (3.6.0)\n",
            "Requirement already satisfied: numpy>=1.20.0 in /usr/local/lib/python3.7/dist-packages (from pyLDAvis) (1.21.4)\n",
            "Requirement already satisfied: funcy in /usr/local/lib/python3.7/dist-packages (from pyLDAvis) (1.16)\n",
            "Requirement already satisfied: scipy in /usr/local/lib/python3.7/dist-packages (from pyLDAvis) (1.4.1)\n",
            "Requirement already satisfied: python-dateutil>=2.7.3 in /usr/local/lib/python3.7/dist-packages (from pandas>=1.2.0->pyLDAvis) (2.8.2)\n",
            "Requirement already satisfied: pytz>=2017.3 in /usr/local/lib/python3.7/dist-packages (from pandas>=1.2.0->pyLDAvis) (2018.9)\n",
            "Requirement already satisfied: six>=1.5 in /usr/local/lib/python3.7/dist-packages (from python-dateutil>=2.7.3->pandas>=1.2.0->pyLDAvis) (1.15.0)\n",
            "Requirement already satisfied: smart-open>=1.2.1 in /usr/local/lib/python3.7/dist-packages (from gensim->pyLDAvis) (5.2.1)\n",
            "Requirement already satisfied: MarkupSafe>=0.23 in /usr/local/lib/python3.7/dist-packages (from jinja2->pyLDAvis) (2.0.1)\n",
            "Requirement already satisfied: threadpoolctl>=2.0.0 in /usr/local/lib/python3.7/dist-packages (from scikit-learn->pyLDAvis) (3.0.0)\n"
          ]
        }
      ],
      "source": [
        "pip install pyLDAvis"
      ]
    },
    {
      "cell_type": "code",
      "execution_count": null,
      "metadata": {
        "colab": {
          "base_uri": "https://localhost:8080/"
        },
        "id": "olQcB2yjOHHt",
        "outputId": "908c7a58-94fe-4cfc-ec59-0b64003344dc"
      },
      "outputs": [
        {
          "name": "stdout",
          "output_type": "stream",
          "text": [
            "Collecting langdetect\n",
            "  Downloading langdetect-1.0.9.tar.gz (981 kB)\n",
            "\u001b[?25l\r\u001b[K     |▍                               | 10 kB 15.6 MB/s eta 0:00:01\r\u001b[K     |▊                               | 20 kB 19.1 MB/s eta 0:00:01\r\u001b[K     |█                               | 30 kB 22.5 MB/s eta 0:00:01\r\u001b[K     |█▍                              | 40 kB 24.0 MB/s eta 0:00:01\r\u001b[K     |█▊                              | 51 kB 11.2 MB/s eta 0:00:01\r\u001b[K     |██                              | 61 kB 8.9 MB/s eta 0:00:01\r\u001b[K     |██▍                             | 71 kB 8.8 MB/s eta 0:00:01\r\u001b[K     |██▊                             | 81 kB 9.5 MB/s eta 0:00:01\r\u001b[K     |███                             | 92 kB 8.5 MB/s eta 0:00:01\r\u001b[K     |███▍                            | 102 kB 9.2 MB/s eta 0:00:01\r\u001b[K     |███▊                            | 112 kB 9.2 MB/s eta 0:00:01\r\u001b[K     |████                            | 122 kB 9.2 MB/s eta 0:00:01\r\u001b[K     |████▍                           | 133 kB 9.2 MB/s eta 0:00:01\r\u001b[K     |████▊                           | 143 kB 9.2 MB/s eta 0:00:01\r\u001b[K     |█████                           | 153 kB 9.2 MB/s eta 0:00:01\r\u001b[K     |█████▍                          | 163 kB 9.2 MB/s eta 0:00:01\r\u001b[K     |█████▊                          | 174 kB 9.2 MB/s eta 0:00:01\r\u001b[K     |██████                          | 184 kB 9.2 MB/s eta 0:00:01\r\u001b[K     |██████▍                         | 194 kB 9.2 MB/s eta 0:00:01\r\u001b[K     |██████▊                         | 204 kB 9.2 MB/s eta 0:00:01\r\u001b[K     |███████                         | 215 kB 9.2 MB/s eta 0:00:01\r\u001b[K     |███████▍                        | 225 kB 9.2 MB/s eta 0:00:01\r\u001b[K     |███████▊                        | 235 kB 9.2 MB/s eta 0:00:01\r\u001b[K     |████████                        | 245 kB 9.2 MB/s eta 0:00:01\r\u001b[K     |████████▍                       | 256 kB 9.2 MB/s eta 0:00:01\r\u001b[K     |████████▊                       | 266 kB 9.2 MB/s eta 0:00:01\r\u001b[K     |█████████                       | 276 kB 9.2 MB/s eta 0:00:01\r\u001b[K     |█████████▍                      | 286 kB 9.2 MB/s eta 0:00:01\r\u001b[K     |█████████▊                      | 296 kB 9.2 MB/s eta 0:00:01\r\u001b[K     |██████████                      | 307 kB 9.2 MB/s eta 0:00:01\r\u001b[K     |██████████▍                     | 317 kB 9.2 MB/s eta 0:00:01\r\u001b[K     |██████████▊                     | 327 kB 9.2 MB/s eta 0:00:01\r\u001b[K     |███████████                     | 337 kB 9.2 MB/s eta 0:00:01\r\u001b[K     |███████████▍                    | 348 kB 9.2 MB/s eta 0:00:01\r\u001b[K     |███████████▊                    | 358 kB 9.2 MB/s eta 0:00:01\r\u001b[K     |████████████                    | 368 kB 9.2 MB/s eta 0:00:01\r\u001b[K     |████████████▍                   | 378 kB 9.2 MB/s eta 0:00:01\r\u001b[K     |████████████▊                   | 389 kB 9.2 MB/s eta 0:00:01\r\u001b[K     |█████████████                   | 399 kB 9.2 MB/s eta 0:00:01\r\u001b[K     |█████████████▍                  | 409 kB 9.2 MB/s eta 0:00:01\r\u001b[K     |█████████████▊                  | 419 kB 9.2 MB/s eta 0:00:01\r\u001b[K     |██████████████                  | 430 kB 9.2 MB/s eta 0:00:01\r\u001b[K     |██████████████▍                 | 440 kB 9.2 MB/s eta 0:00:01\r\u001b[K     |██████████████▊                 | 450 kB 9.2 MB/s eta 0:00:01\r\u001b[K     |███████████████                 | 460 kB 9.2 MB/s eta 0:00:01\r\u001b[K     |███████████████▍                | 471 kB 9.2 MB/s eta 0:00:01\r\u001b[K     |███████████████▊                | 481 kB 9.2 MB/s eta 0:00:01\r\u001b[K     |████████████████                | 491 kB 9.2 MB/s eta 0:00:01\r\u001b[K     |████████████████▍               | 501 kB 9.2 MB/s eta 0:00:01\r\u001b[K     |████████████████▊               | 512 kB 9.2 MB/s eta 0:00:01\r\u001b[K     |█████████████████               | 522 kB 9.2 MB/s eta 0:00:01\r\u001b[K     |█████████████████▍              | 532 kB 9.2 MB/s eta 0:00:01\r\u001b[K     |█████████████████▊              | 542 kB 9.2 MB/s eta 0:00:01\r\u001b[K     |██████████████████              | 552 kB 9.2 MB/s eta 0:00:01\r\u001b[K     |██████████████████▍             | 563 kB 9.2 MB/s eta 0:00:01\r\u001b[K     |██████████████████▊             | 573 kB 9.2 MB/s eta 0:00:01\r\u001b[K     |███████████████████             | 583 kB 9.2 MB/s eta 0:00:01\r\u001b[K     |███████████████████▍            | 593 kB 9.2 MB/s eta 0:00:01\r\u001b[K     |███████████████████▊            | 604 kB 9.2 MB/s eta 0:00:01\r\u001b[K     |████████████████████            | 614 kB 9.2 MB/s eta 0:00:01\r\u001b[K     |████████████████████▍           | 624 kB 9.2 MB/s eta 0:00:01\r\u001b[K     |████████████████████▊           | 634 kB 9.2 MB/s eta 0:00:01\r\u001b[K     |█████████████████████           | 645 kB 9.2 MB/s eta 0:00:01\r\u001b[K     |█████████████████████▍          | 655 kB 9.2 MB/s eta 0:00:01\r\u001b[K     |█████████████████████▊          | 665 kB 9.2 MB/s eta 0:00:01\r\u001b[K     |██████████████████████          | 675 kB 9.2 MB/s eta 0:00:01\r\u001b[K     |██████████████████████▍         | 686 kB 9.2 MB/s eta 0:00:01\r\u001b[K     |██████████████████████▊         | 696 kB 9.2 MB/s eta 0:00:01\r\u001b[K     |███████████████████████         | 706 kB 9.2 MB/s eta 0:00:01\r\u001b[K     |███████████████████████▍        | 716 kB 9.2 MB/s eta 0:00:01\r\u001b[K     |███████████████████████▊        | 727 kB 9.2 MB/s eta 0:00:01\r\u001b[K     |████████████████████████        | 737 kB 9.2 MB/s eta 0:00:01\r\u001b[K     |████████████████████████▍       | 747 kB 9.2 MB/s eta 0:00:01\r\u001b[K     |████████████████████████▊       | 757 kB 9.2 MB/s eta 0:00:01\r\u001b[K     |█████████████████████████       | 768 kB 9.2 MB/s eta 0:00:01\r\u001b[K     |█████████████████████████▍      | 778 kB 9.2 MB/s eta 0:00:01\r\u001b[K     |█████████████████████████▊      | 788 kB 9.2 MB/s eta 0:00:01\r\u001b[K     |██████████████████████████      | 798 kB 9.2 MB/s eta 0:00:01\r\u001b[K     |██████████████████████████▍     | 808 kB 9.2 MB/s eta 0:00:01\r\u001b[K     |██████████████████████████▊     | 819 kB 9.2 MB/s eta 0:00:01\r\u001b[K     |███████████████████████████     | 829 kB 9.2 MB/s eta 0:00:01\r\u001b[K     |███████████████████████████▍    | 839 kB 9.2 MB/s eta 0:00:01\r\u001b[K     |███████████████████████████▊    | 849 kB 9.2 MB/s eta 0:00:01\r\u001b[K     |████████████████████████████    | 860 kB 9.2 MB/s eta 0:00:01\r\u001b[K     |████████████████████████████▍   | 870 kB 9.2 MB/s eta 0:00:01\r\u001b[K     |████████████████████████████▊   | 880 kB 9.2 MB/s eta 0:00:01\r\u001b[K     |█████████████████████████████   | 890 kB 9.2 MB/s eta 0:00:01\r\u001b[K     |█████████████████████████████▍  | 901 kB 9.2 MB/s eta 0:00:01\r\u001b[K     |█████████████████████████████▊  | 911 kB 9.2 MB/s eta 0:00:01\r\u001b[K     |██████████████████████████████  | 921 kB 9.2 MB/s eta 0:00:01\r\u001b[K     |██████████████████████████████▍ | 931 kB 9.2 MB/s eta 0:00:01\r\u001b[K     |██████████████████████████████▊ | 942 kB 9.2 MB/s eta 0:00:01\r\u001b[K     |███████████████████████████████ | 952 kB 9.2 MB/s eta 0:00:01\r\u001b[K     |███████████████████████████████▍| 962 kB 9.2 MB/s eta 0:00:01\r\u001b[K     |███████████████████████████████▊| 972 kB 9.2 MB/s eta 0:00:01\r\u001b[K     |████████████████████████████████| 981 kB 9.2 MB/s \n",
            "\u001b[?25hRequirement already satisfied: six in /usr/local/lib/python3.7/dist-packages (from langdetect) (1.15.0)\n",
            "Building wheels for collected packages: langdetect\n",
            "  Building wheel for langdetect (setup.py) ... \u001b[?25l\u001b[?25hdone\n",
            "  Created wheel for langdetect: filename=langdetect-1.0.9-py3-none-any.whl size=993242 sha256=7fc08c0f5811d039e06d468f424081d3e48e06fcef144f11c741879044c78e08\n",
            "  Stored in directory: /root/.cache/pip/wheels/c5/96/8a/f90c59ed25d75e50a8c10a1b1c2d4c402e4dacfa87f3aff36a\n",
            "Successfully built langdetect\n",
            "Installing collected packages: langdetect\n",
            "Successfully installed langdetect-1.0.9\n"
          ]
        }
      ],
      "source": [
        "pip install langdetect"
      ]
    },
    {
      "cell_type": "code",
      "execution_count": 1,
      "metadata": {
        "id": "wz0cxUl7NZCo",
        "colab": {
          "base_uri": "https://localhost:8080/"
        },
        "outputId": "592c8b66-6dd8-4047-8309-87aa92e19fa7"
      },
      "outputs": [
        {
          "output_type": "stream",
          "name": "stderr",
          "text": [
            "/usr/local/lib/python3.7/dist-packages/past/types/oldstr.py:5: DeprecationWarning: Using or importing the ABCs from 'collections' instead of from 'collections.abc' is deprecated since Python 3.3,and in 3.9 it will stop working\n",
            "  from collections import Iterable\n"
          ]
        }
      ],
      "source": [
        "import re\n",
        "import nltk\n",
        "import functools\n",
        "import operator\n",
        "import pandas as pd\n",
        "import gensim\n",
        "import pyLDAvis.gensim_models\n",
        "\n",
        "from langdetect import detect\n",
        "from langdetect.lang_detect_exception import LangDetectException\n",
        "from textblob import Word\n",
        "\n",
        "from nltk.corpus import stopwords\n",
        "from nltk.tokenize import word_tokenize\n",
        "\n",
        "from gensim.corpora import Dictionary"
      ]
    },
    {
      "cell_type": "code",
      "execution_count": 15,
      "metadata": {
        "colab": {
          "base_uri": "https://localhost:8080/"
        },
        "id": "HBxZFTyEONcW",
        "outputId": "c63c85a9-8cfc-4f56-b0bb-58fa2c1942a1"
      },
      "outputs": [
        {
          "output_type": "stream",
          "name": "stdout",
          "text": [
            "[nltk_data] Downloading package wordnet to /root/nltk_data...\n",
            "[nltk_data]   Package wordnet is already up-to-date!\n",
            "[nltk_data] Downloading package punkt to /root/nltk_data...\n",
            "[nltk_data]   Package punkt is already up-to-date!\n",
            "[nltk_data] Downloading package averaged_perceptron_tagger to\n",
            "[nltk_data]     /root/nltk_data...\n",
            "[nltk_data]   Package averaged_perceptron_tagger is already up-to-\n",
            "[nltk_data]       date!\n",
            "[nltk_data] Downloading package stopwords to /root/nltk_data...\n",
            "[nltk_data]   Package stopwords is already up-to-date!\n"
          ]
        },
        {
          "output_type": "execute_result",
          "data": {
            "text/plain": [
              "True"
            ]
          },
          "metadata": {},
          "execution_count": 15
        }
      ],
      "source": [
        "nltk.download('wordnet')\n",
        "nltk.download('punkt')\n",
        "nltk.download('averaged_perceptron_tagger')\n",
        "nltk.download('stopwords')"
      ]
    },
    {
      "cell_type": "code",
      "execution_count": 2,
      "metadata": {
        "id": "vMRHKgDwNoeM"
      },
      "outputs": [],
      "source": [
        "STOPWORDS = stopwords.words('english')"
      ]
    },
    {
      "cell_type": "code",
      "execution_count": 3,
      "metadata": {
        "id": "31p1nYBhNqiD"
      },
      "outputs": [],
      "source": [
        "file_path = \"/content/drive/MyDrive/Hackathon/NanoGiants3/datasets/DisneylandReviews.csv\""
      ]
    },
    {
      "cell_type": "code",
      "execution_count": 4,
      "metadata": {
        "colab": {
          "base_uri": "https://localhost:8080/",
          "height": 204
        },
        "id": "ZgtxW8IxOW_K",
        "outputId": "337811ed-afde-436f-d82d-d6b928acdc1c"
      },
      "outputs": [
        {
          "output_type": "execute_result",
          "data": {
            "text/html": [
              "<div>\n",
              "<style scoped>\n",
              "    .dataframe tbody tr th:only-of-type {\n",
              "        vertical-align: middle;\n",
              "    }\n",
              "\n",
              "    .dataframe tbody tr th {\n",
              "        vertical-align: top;\n",
              "    }\n",
              "\n",
              "    .dataframe thead th {\n",
              "        text-align: right;\n",
              "    }\n",
              "</style>\n",
              "<table border=\"1\" class=\"dataframe\">\n",
              "  <thead>\n",
              "    <tr style=\"text-align: right;\">\n",
              "      <th></th>\n",
              "      <th>Review_ID</th>\n",
              "      <th>Rating</th>\n",
              "      <th>Year_Month</th>\n",
              "      <th>Reviewer_Location</th>\n",
              "      <th>Review_Text</th>\n",
              "      <th>Branch</th>\n",
              "    </tr>\n",
              "  </thead>\n",
              "  <tbody>\n",
              "    <tr>\n",
              "      <th>0</th>\n",
              "      <td>670772142</td>\n",
              "      <td>4</td>\n",
              "      <td>2019-4</td>\n",
              "      <td>Australia</td>\n",
              "      <td>If you've ever been to Disneyland anywhere you...</td>\n",
              "      <td>Disneyland_HongKong</td>\n",
              "    </tr>\n",
              "    <tr>\n",
              "      <th>1</th>\n",
              "      <td>670682799</td>\n",
              "      <td>4</td>\n",
              "      <td>2019-5</td>\n",
              "      <td>Philippines</td>\n",
              "      <td>Its been a while since d last time we visit HK...</td>\n",
              "      <td>Disneyland_HongKong</td>\n",
              "    </tr>\n",
              "    <tr>\n",
              "      <th>2</th>\n",
              "      <td>670623270</td>\n",
              "      <td>4</td>\n",
              "      <td>2019-4</td>\n",
              "      <td>United Arab Emirates</td>\n",
              "      <td>Thanks God it wasn   t too hot or too humid wh...</td>\n",
              "      <td>Disneyland_HongKong</td>\n",
              "    </tr>\n",
              "    <tr>\n",
              "      <th>3</th>\n",
              "      <td>670607911</td>\n",
              "      <td>4</td>\n",
              "      <td>2019-4</td>\n",
              "      <td>Australia</td>\n",
              "      <td>HK Disneyland is a great compact park. Unfortu...</td>\n",
              "      <td>Disneyland_HongKong</td>\n",
              "    </tr>\n",
              "    <tr>\n",
              "      <th>4</th>\n",
              "      <td>670607296</td>\n",
              "      <td>4</td>\n",
              "      <td>2019-4</td>\n",
              "      <td>United Kingdom</td>\n",
              "      <td>the location is not in the city, took around 1...</td>\n",
              "      <td>Disneyland_HongKong</td>\n",
              "    </tr>\n",
              "  </tbody>\n",
              "</table>\n",
              "</div>"
            ],
            "text/plain": [
              "   Review_ID  ...               Branch\n",
              "0  670772142  ...  Disneyland_HongKong\n",
              "1  670682799  ...  Disneyland_HongKong\n",
              "2  670623270  ...  Disneyland_HongKong\n",
              "3  670607911  ...  Disneyland_HongKong\n",
              "4  670607296  ...  Disneyland_HongKong\n",
              "\n",
              "[5 rows x 6 columns]"
            ]
          },
          "metadata": {},
          "execution_count": 4
        }
      ],
      "source": [
        "df = pd.read_csv(file_path)\n",
        "df.head()"
      ]
    },
    {
      "cell_type": "code",
      "execution_count": 5,
      "metadata": {
        "id": "BexU5360OaZA",
        "colab": {
          "base_uri": "https://localhost:8080/"
        },
        "outputId": "821beee0-41cc-4255-bde8-124722ff5b6c"
      },
      "outputs": [
        {
          "output_type": "stream",
          "name": "stdout",
          "text": [
            "<class 'pandas.core.frame.DataFrame'>\n",
            "RangeIndex: 1008 entries, 0 to 1007\n",
            "Data columns (total 6 columns):\n",
            " #   Column             Non-Null Count  Dtype \n",
            "---  ------             --------------  ----- \n",
            " 0   Review_ID          1008 non-null   int64 \n",
            " 1   Rating             1008 non-null   int64 \n",
            " 2   Year_Month         1008 non-null   object\n",
            " 3   Reviewer_Location  1008 non-null   object\n",
            " 4   Review_Text        1008 non-null   object\n",
            " 5   Branch             1008 non-null   object\n",
            "dtypes: int64(2), object(4)\n",
            "memory usage: 47.4+ KB\n"
          ]
        }
      ],
      "source": [
        "df.info()"
      ]
    },
    {
      "cell_type": "markdown",
      "source": [
        "# Preprocessing"
      ],
      "metadata": {
        "id": "8lzoH97EO2fe"
      }
    },
    {
      "cell_type": "code",
      "source": [
        "def get_language_code(text):\n",
        "    try:\n",
        "        return detect(text)\n",
        "    except LangDetectException:\n",
        "        return np.nan"
      ],
      "metadata": {
        "id": "_1O2hIcSO1df"
      },
      "execution_count": 6,
      "outputs": []
    },
    {
      "cell_type": "code",
      "source": [
        "# Bottleneck on large datasets!\n",
        "df[\"language_code\"] = df.apply(lambda row: get_language_code(row[\"Review_Text\"]), axis=1)"
      ],
      "metadata": {
        "id": "K852nK-ZO7kf"
      },
      "execution_count": 7,
      "outputs": []
    },
    {
      "cell_type": "code",
      "source": [
        "# Get none english row count\n",
        "df.shape[0] - df[df[\"language_code\"] == \"en\"].shape[0]"
      ],
      "metadata": {
        "colab": {
          "base_uri": "https://localhost:8080/"
        },
        "id": "ANM3dz_gO9B3",
        "outputId": "824a65d1-3f8d-425f-9bf5-c0ff9e723fec"
      },
      "execution_count": 8,
      "outputs": [
        {
          "output_type": "execute_result",
          "data": {
            "text/plain": [
              "0"
            ]
          },
          "metadata": {},
          "execution_count": 8
        }
      ]
    },
    {
      "cell_type": "code",
      "source": [
        "def clean_text(text: str):\n",
        "    # remove and replace all urls\n",
        "    text = re.sub(r'http\\S+', ' ', text)\n",
        "\n",
        "    # remove and replace none alphanumerical letters\n",
        "    text = re.sub(r'\\W+', ' ', text.lower())\n",
        "\n",
        "    words = []\n",
        "    for word in text.split():\n",
        "        if word in STOPWORDS:\n",
        "            continue\n",
        "        words.append(Word(word).lemmatize())\n",
        "    return \" \".join(words)"
      ],
      "metadata": {
        "id": "HXou-5YfO-tA"
      },
      "execution_count": 9,
      "outputs": []
    },
    {
      "cell_type": "code",
      "source": [
        "df['text_cleaned'] = df['Review_Text'].apply(clean_text)"
      ],
      "metadata": {
        "id": "DHNdeQlQPAae"
      },
      "execution_count": 10,
      "outputs": []
    },
    {
      "cell_type": "code",
      "source": [
        "df['tokens'] = df['text_cleaned'].apply(word_tokenize)"
      ],
      "metadata": {
        "id": "kDRXKr14PB98"
      },
      "execution_count": 11,
      "outputs": []
    },
    {
      "cell_type": "code",
      "source": [
        "df.head()"
      ],
      "metadata": {
        "colab": {
          "base_uri": "https://localhost:8080/",
          "height": 306
        },
        "id": "1JmO1RkuPGxP",
        "outputId": "94cbe5a0-4513-456c-fe4d-fbfa297cb125"
      },
      "execution_count": 12,
      "outputs": [
        {
          "output_type": "execute_result",
          "data": {
            "text/html": [
              "<div>\n",
              "<style scoped>\n",
              "    .dataframe tbody tr th:only-of-type {\n",
              "        vertical-align: middle;\n",
              "    }\n",
              "\n",
              "    .dataframe tbody tr th {\n",
              "        vertical-align: top;\n",
              "    }\n",
              "\n",
              "    .dataframe thead th {\n",
              "        text-align: right;\n",
              "    }\n",
              "</style>\n",
              "<table border=\"1\" class=\"dataframe\">\n",
              "  <thead>\n",
              "    <tr style=\"text-align: right;\">\n",
              "      <th></th>\n",
              "      <th>Review_ID</th>\n",
              "      <th>Rating</th>\n",
              "      <th>Year_Month</th>\n",
              "      <th>Reviewer_Location</th>\n",
              "      <th>Review_Text</th>\n",
              "      <th>Branch</th>\n",
              "      <th>language_code</th>\n",
              "      <th>text_cleaned</th>\n",
              "      <th>tokens</th>\n",
              "    </tr>\n",
              "  </thead>\n",
              "  <tbody>\n",
              "    <tr>\n",
              "      <th>0</th>\n",
              "      <td>670772142</td>\n",
              "      <td>4</td>\n",
              "      <td>2019-4</td>\n",
              "      <td>Australia</td>\n",
              "      <td>If you've ever been to Disneyland anywhere you...</td>\n",
              "      <td>Disneyland_HongKong</td>\n",
              "      <td>en</td>\n",
              "      <td>ever disneyland anywhere find disneyland hong ...</td>\n",
              "      <td>[ever, disneyland, anywhere, find, disneyland,...</td>\n",
              "    </tr>\n",
              "    <tr>\n",
              "      <th>1</th>\n",
              "      <td>670682799</td>\n",
              "      <td>4</td>\n",
              "      <td>2019-5</td>\n",
              "      <td>Philippines</td>\n",
              "      <td>Its been a while since d last time we visit HK...</td>\n",
              "      <td>Disneyland_HongKong</td>\n",
              "      <td>en</td>\n",
              "      <td>since last time visit hk disneyland yet time s...</td>\n",
              "      <td>[since, last, time, visit, hk, disneyland, yet...</td>\n",
              "    </tr>\n",
              "    <tr>\n",
              "      <th>2</th>\n",
              "      <td>670623270</td>\n",
              "      <td>4</td>\n",
              "      <td>2019-4</td>\n",
              "      <td>United Arab Emirates</td>\n",
              "      <td>Thanks God it wasn   t too hot or too humid wh...</td>\n",
              "      <td>Disneyland_HongKong</td>\n",
              "      <td>en</td>\n",
              "      <td>thanks god hot humid visiting park otherwise w...</td>\n",
              "      <td>[thanks, god, hot, humid, visiting, park, othe...</td>\n",
              "    </tr>\n",
              "    <tr>\n",
              "      <th>3</th>\n",
              "      <td>670607911</td>\n",
              "      <td>4</td>\n",
              "      <td>2019-4</td>\n",
              "      <td>Australia</td>\n",
              "      <td>HK Disneyland is a great compact park. Unfortu...</td>\n",
              "      <td>Disneyland_HongKong</td>\n",
              "      <td>en</td>\n",
              "      <td>hk disneyland great compact park unfortunately...</td>\n",
              "      <td>[hk, disneyland, great, compact, park, unfortu...</td>\n",
              "    </tr>\n",
              "    <tr>\n",
              "      <th>4</th>\n",
              "      <td>670607296</td>\n",
              "      <td>4</td>\n",
              "      <td>2019-4</td>\n",
              "      <td>United Kingdom</td>\n",
              "      <td>the location is not in the city, took around 1...</td>\n",
              "      <td>Disneyland_HongKong</td>\n",
              "      <td>en</td>\n",
              "      <td>location city took around 1 hour kowlon kid li...</td>\n",
              "      <td>[location, city, took, around, 1, hour, kowlon...</td>\n",
              "    </tr>\n",
              "  </tbody>\n",
              "</table>\n",
              "</div>"
            ],
            "text/plain": [
              "   Review_ID  ...                                             tokens\n",
              "0  670772142  ...  [ever, disneyland, anywhere, find, disneyland,...\n",
              "1  670682799  ...  [since, last, time, visit, hk, disneyland, yet...\n",
              "2  670623270  ...  [thanks, god, hot, humid, visiting, park, othe...\n",
              "3  670607911  ...  [hk, disneyland, great, compact, park, unfortu...\n",
              "4  670607296  ...  [location, city, took, around, 1, hour, kowlon...\n",
              "\n",
              "[5 rows x 9 columns]"
            ]
          },
          "metadata": {},
          "execution_count": 12
        }
      ]
    },
    {
      "cell_type": "markdown",
      "source": [
        "# LDA"
      ],
      "metadata": {
        "id": "ZLO3pMkSPJrM"
      }
    },
    {
      "cell_type": "code",
      "source": [
        "id2word = Dictionary(df['tokens'])\n",
        "texts = df['tokens']\n",
        "corpus = [id2word.doc2bow(doc) for doc in df['tokens']]"
      ],
      "metadata": {
        "id": "M65etLELPIjB"
      },
      "execution_count": 13,
      "outputs": []
    },
    {
      "cell_type": "code",
      "source": [
        "lda_model = gensim.models.ldamodel.LdaModel(\n",
        "    id2word=id2word,\n",
        "    num_topics = 4,\n",
        "    random_state=42,\n",
        "    passes = 10,\n",
        "    update_every=1,\n",
        "    alpha='auto',\n",
        "    per_word_topics=True\n",
        ")"
      ],
      "metadata": {
        "id": "91mknbjtPM2u"
      },
      "execution_count": 17,
      "outputs": []
    },
    {
      "cell_type": "code",
      "source": [
        "pyLDAvis.enable_notebook()"
      ],
      "metadata": {
        "id": "XJMFQLl6POq7"
      },
      "execution_count": 18,
      "outputs": []
    },
    {
      "cell_type": "code",
      "source": [
        "vis = pyLDAvis.gensim_models.prepare(\n",
        "    lda_model,\n",
        "    corpus,\n",
        "    id2word\n",
        ")\n",
        "vis"
      ],
      "metadata": {
        "colab": {
          "base_uri": "https://localhost:8080/",
          "height": 915
        },
        "id": "wVOPZwMfPRxU",
        "outputId": "2ff98f0d-1d31-4e96-f4f2-9698e5fe12bb"
      },
      "execution_count": 19,
      "outputs": [
        {
          "output_type": "stream",
          "name": "stderr",
          "text": [
            "/usr/local/lib/python3.7/dist-packages/pyLDAvis/_prepare.py:247: FutureWarning: In a future version of pandas all arguments of DataFrame.drop except for the argument 'labels' will be keyword-only\n",
            "  by='saliency', ascending=False).head(R).drop('saliency', 1)\n"
          ]
        },
        {
          "output_type": "execute_result",
          "data": {
            "text/html": [
              "\n",
              "<link rel=\"stylesheet\" type=\"text/css\" href=\"https://cdn.jsdelivr.net/gh/bmabey/pyLDAvis@3.3.1/pyLDAvis/js/ldavis.v1.0.0.css\">\n",
              "\n",
              "\n",
              "<div id=\"ldavis_el3561402183168980001829860942\"></div>\n",
              "<script type=\"text/javascript\">\n",
              "\n",
              "var ldavis_el3561402183168980001829860942_data = {\"mdsDat\": {\"x\": [-0.000256657129175091, 0.0010054822292495332, -0.00038940717906441497, -0.00035941792101002666], \"y\": [-0.0007542538505269613, 7.43466914449337e-05, 0.0007992224201186706, -0.00011931526103664295], \"topics\": [1, 2, 3, 4], \"cluster\": [1, 1, 1, 1], \"Freq\": [36.65543927716371, 30.90591892137241, 18.641129331793994, 13.79751246966989]}, \"tinfo\": {\"Term\": [\"surfing\", \"saloon\", \"mini\", \"8am\", \"team\", \"cctv\", \"rushing\", \"agitated\", \"think\", \"hehehe\", \"stall\", \"exercise\", \"unable\", \"praiseworthy\", \"seemed\", \"trash\", \"31\", \"yikes\", \"restaurant\", \"cabin\", \"middle\", \"losing\", \"discipline\", \"fit\", \"spare\", \"10min\", \"breeze\", \"30min\", \"3rd\", \"corporation\", \"govt\", \"certain\", \"precious\", \"iphone\", \"tai\", \"2006\", \"exchanged\", \"card\", \"toll\", \"wear\", \"castor\", \"entail\", \"storage\", \"grey\", \"lantau\", \"reference\", \"98\", \"burn\", \"flew\", \"nice\", \"110\", \"famous\", \"much\", \"chance\", \"4x\", \"stumbled\", \"wich\", \"returned\", \"wonderfully\", \"timesthe\", \"intimation\", \"july\", \"popularity\", \"information\", \"saved\", \"list\", \"finest\", \"presence\", \"outer\", \"share\", \"traditionally\", \"lit\", \"knowing\", \"greatest\", \"600hk\", \"twenty\", \"student\", \"eternally\", \"retreat\", \"cheapest\", \"lacking\", \"spectacular\", \"realize\", \"effortless\", \"maze\", \"maintain\", \"ques\", \"rider\", \"evening\", \"concierge\", \"tigger\", \"facility\", \"walk\", \"72\", \"approachable\", \"max\", \"figurine\", \"disappointing\", \"2012\", \"eve\", \"strike\", \"daytime\", \"foodieandmoody\", \"downloaded\", \"organised\", \"damage\", \"showcase\", \"shoe\", \"perfect\", \"forward\", \"excel\", \"refund\", \"starlight\", \"hop\", \"ignored\", \"norm\", \"everyone\", \"strange\", \"rollercoasters\", \"exhausting\", \"galore\", \"hood\", \"q\", \"spring\", \"expensively\", \"food\", \"promos\", \"surfing\", \"cabin\", \"vist\", \"updating\", \"grizzly\", \"stunning\", \"possibly\", \"8yrs\", \"uncle\", \"a21\", \"compelling\", \"void\", \"30min\", \"stop\", \"throughout\", \"creates\", \"subtitle\", \"fit\", \"affair\", \"benefited\", \"commute\", \"framed\", \"shade\", \"remarkable\", \"say\", \"discover\", \"tiresome\", \"update\", \"200\", \"evenhave\", \"delivered\", \"varying\", \"brilliant\", \"149hk\", \"assist\", \"mini\", \"engineering\", \"corn\", \"fainted\", \"greatings\", \"resteraunts\", \"absorb\", \"early\", \"sake\", \"mytic\", \"ranger\", \"ceremonial\", \"sydney\", \"board\", \"fam\", \"herald\", \"prop\", \"jelly\", \"team\", \"seemed\", \"rushing\", \"hehehe\", \"explaining\", \"suspiciously\", \"corporation\", \"saloon\", \"10min\", \"r2\", \"instant\", \"restaurant\", \"think\", \"losing\", \"jaw\", \"unable\", \"understandable\", \"document\", \"blast\", \"conditioned\", \"busier\", \"mickeying\", \"cctv\", \"praiseworthy\", \"another\", \"exercise\", \"virtual\", \"hoisted\", \"prevent\", \"agitated\", \"ups\", \"jakarta\", \"rough\", \"8am\", \"wild\", \"engage\", \"boy\", \"tired\", \"notice\", \"indian\", \"acted\", \"essential\", \"lit\", \"marginally\", \"behaviour\"], \"Freq\": [9.0, 10.0, 9.0, 10.0, 9.0, 9.0, 10.0, 9.0, 9.0, 9.0, 9.0, 9.0, 9.0, 9.0, 9.0, 9.0, 9.0, 9.0, 9.0, 9.0, 9.0, 10.0, 9.0, 9.0, 9.0, 9.0, 9.0, 9.0, 9.0, 9.0, 4.45307300730185, 4.816110462778213, 4.59821938651247, 4.3892737382274865, 4.414401457443476, 4.3532892218747525, 4.061498214432102, 4.340895117085694, 4.129129235348648, 4.373364356656916, 4.699437825497834, 4.217606548631906, 4.202261514202756, 4.236500410205013, 4.842920707633216, 3.995233744845576, 3.9334349787259337, 4.345070885330854, 3.884647493838827, 4.352283211753091, 4.175313813012065, 3.8325222486401587, 4.217987620659076, 4.377453494861735, 4.511049535861196, 4.154206879396809, 4.3427163509395905, 4.389683353100318, 4.540175757228234, 4.284757348688984, 4.495958382532932, 4.491328432515574, 4.248273082161329, 4.3839066817397025, 4.279200507315133, 4.367902658101938, 4.410167602003635, 4.45311056367772, 4.437952309624567, 4.411762996850629, 4.323564602252171, 4.552713577748959, 4.338278188815013, 4.418180129607761, 4.399509603283167, 4.429515144597262, 4.414244221416496, 4.391080951034391, 4.371344825138421, 4.362797494741894, 3.7790673899421527, 4.013393658417585, 3.6482815289525194, 3.7097527877721665, 3.620659044409667, 3.6957604186074153, 3.7391599421940027, 3.6995999709801333, 3.6886474937313234, 3.7642310285635174, 3.560575580691089, 3.508666470775919, 3.7947642096158836, 3.6896819013971647, 3.632798768334536, 3.6312112692228777, 4.024416222063346, 3.7515985888239394, 3.39481808534821, 3.3330719696344966, 3.5722804311890943, 3.5890133473575085, 3.394672846067782, 3.573867508093542, 3.682545755124493, 3.7372270775841168, 3.4819187995733207, 3.8461358497520264, 3.911927554957205, 3.4990808893712564, 3.788738468306951, 3.811405929026819, 3.722517800575856, 3.7775854426331312, 3.7673165188581974, 3.730380987665091, 3.716457438275659, 3.6945208182372484, 3.7391312321036856, 3.796100495437266, 3.808154511298394, 3.785132818728876, 3.7016231879330763, 3.723322105311949, 3.699126254489899, 3.695312878964235, 3.6935797183649384, 2.5644083639049398, 2.2620333271614284, 2.3430950888308892, 2.177952093367906, 2.0236394200744603, 2.1136880394025295, 2.19750646681737, 2.3097721567804625, 2.2497318495174286, 2.1962617017214425, 2.1960271623079093, 2.196205422448488, 2.2276823434145494, 2.044175242926482, 1.9795435910854975, 2.2580746787538604, 2.193573538801514, 2.214109106996192, 2.1569578872972532, 2.1591601640054328, 2.1066768134162217, 2.1136840922137026, 2.0283384847087893, 2.179810837319456, 2.0273715507748213, 2.237024702724941, 2.1283324919370936, 1.992066620618502, 2.117839081433251, 2.2388661299771195, 2.1651196551623255, 2.2315615387308876, 2.2288983322306404, 2.2237662227833765, 2.177949037479782, 2.154213954419058, 2.1736814897143253, 2.1806636847634535, 2.2489622750248155, 2.1975446654189223, 2.246744973533359, 2.2999113151183304, 2.252353292213312, 2.245455643402287, 2.203750919541845, 2.218674349196415, 2.2229019157589134, 2.2406854020403983, 2.202049044514005, 2.210857132717347, 2.202957152601582, 2.2102365327707894, 2.20232381978784, 1.718275370995887, 1.6913362224374144, 1.7803745925637755, 1.700229673735566, 1.6351346164867577, 1.5630925340854516, 1.6330917784906709, 1.8267018532384585, 1.615641139317972, 1.594978091216752, 1.5895814779425352, 1.6671885880625594, 1.686195199523291, 1.7286363934914486, 1.6301479656264077, 1.6723407317961854, 1.5984530645786137, 1.5331173075585376, 1.6264780951905515, 1.618737439351347, 1.5234845102519297, 1.5114278455149215, 1.6245971687868836, 1.5859513785730355, 1.5586082049873797, 1.6831514877719707, 1.5964858104574513, 1.6472938189493493, 1.679602815419846, 1.6196787507512784, 1.6805560015931447, 1.6299896353148455, 1.638731730374682, 1.6625221791061908, 1.7053874721231763, 1.6319393600086562, 1.6342375998763705, 1.6726849117353673, 1.6472966462763414, 1.6379647708059353, 1.6406079445666961, 1.628471360720042, 1.6444889220846355, 1.6285891660113831, 1.6292999560172183], \"Total\": [9.0, 10.0, 9.0, 10.0, 9.0, 9.0, 10.0, 9.0, 9.0, 9.0, 9.0, 9.0, 9.0, 9.0, 9.0, 9.0, 9.0, 9.0, 9.0, 9.0, 9.0, 10.0, 9.0, 9.0, 9.0, 9.0, 9.0, 9.0, 9.0, 9.0, 9.934601569958307, 10.895824595581654, 10.463736165203851, 10.025917769402662, 10.137180951047823, 10.101725788380534, 9.453600083835981, 10.108637926859453, 9.615766536500834, 10.187082519747111, 10.95153259402728, 9.833814027357137, 9.81593212587282, 9.921319586813308, 11.344046585874484, 9.359229588724252, 9.247234003131087, 10.217577959078806, 9.136836770848696, 10.241332462459969, 9.83809515942353, 9.0321052212492, 9.941372022817681, 10.329615725976671, 10.649307870700284, 9.80918919140661, 10.263187851987201, 10.382419970942303, 10.739499171229351, 10.15274325959263, 10.6701869617571, 10.671032686126367, 10.06854284871249, 10.429213094182916, 10.15816875954047, 10.42438352501283, 10.555478077118241, 10.70042320310005, 10.684245696009512, 10.603537721819425, 10.315222092236821, 11.223516013743003, 10.37900224167255, 10.760782373345746, 10.686457930999222, 10.960759187579837, 10.974305079316743, 10.828276315864418, 10.667802712464148, 10.756256049730899, 9.676771319876806, 10.553784663837886, 9.644424775923017, 9.809538834335594, 9.597931054230076, 9.802962704149433, 9.939360933479314, 9.872375909545674, 9.9022918504102, 10.127101558812669, 9.594481241024457, 9.521813810584487, 10.302675411030382, 10.02363543611361, 9.873479795801424, 9.889315735328283, 10.965135125048098, 10.231262753530697, 9.28321350989087, 9.119926495060673, 9.778115447267338, 9.826418842614157, 9.301031795495133, 9.800636090683529, 10.10659439863611, 10.300120020351956, 9.606924948203508, 10.612586780918361, 10.795562103092085, 9.663042321554187, 10.464781259911629, 10.532151378001393, 10.289307299311867, 10.508198854381089, 10.507016619774882, 10.38855964189769, 10.35005969523334, 10.267429511552537, 10.499595487599738, 10.789965722631354, 11.027159525474612, 10.890867810884673, 10.49144901223214, 11.01522139627183, 11.056904193710125, 10.839958963485893, 11.176482128540053, 9.822825283899997, 9.471341545401911, 9.99018947253495, 9.331931907241408, 8.704205972085566, 9.106469685634961, 9.494993508472888, 10.06047890157812, 9.804402560445652, 9.581388914590386, 9.592501988708985, 9.604376918786201, 9.837993956245624, 9.035430218140627, 8.789706012872257, 10.030627736715115, 9.751940965642905, 9.852100372304811, 9.613122459720305, 9.62561977516189, 9.394506280749836, 9.427809378935704, 9.051627718126868, 9.728260645094764, 9.051278274836566, 9.997525969197213, 9.514725231330836, 8.908707196990477, 9.475668747156519, 10.028185289970367, 9.709146507038119, 10.032108921646604, 10.028611208014462, 10.013034758031269, 9.79879108281266, 9.684739868906219, 9.805638693372869, 9.874966321197926, 10.343482266337515, 10.013093719750817, 10.417506399501477, 10.952243605775706, 10.531444194996652, 10.474982064109955, 10.122962526926651, 10.353506679276428, 10.5838934635213, 10.945333740402777, 10.234878829593336, 10.611026512835979, 10.339278973434384, 10.86737440575391, 10.675250638486137, 9.073689909285703, 9.570773885335791, 10.089831457712616, 9.655566756106316, 9.289389521802288, 8.897593682852044, 9.30336944473829, 10.412455753723396, 9.212497978024201, 9.196354338977036, 9.174404127248547, 9.62749409212313, 9.785929207208406, 10.078699815127942, 9.516583279353876, 9.780353283404544, 9.362525946361782, 8.99435760859496, 9.545465730695794, 9.500070209820848, 8.952784533472755, 8.898943264513392, 9.598106761664237, 9.371941105191416, 9.246830026685664, 9.993598669313657, 9.498165445433534, 9.80515003310297, 10.037424075821319, 9.685645063604593, 10.050512081691496, 9.76213186040933, 9.880867445757422, 10.182671801436836, 10.73556398239903, 9.923076427716598, 10.056805472055466, 10.833420277799634, 10.39419744328982, 10.187722550502968, 10.256589146661415, 9.989445772338582, 11.223516013743003, 10.524227715622548, 10.837947742363772], \"Category\": [\"Default\", \"Default\", \"Default\", \"Default\", \"Default\", \"Default\", \"Default\", \"Default\", \"Default\", \"Default\", \"Default\", \"Default\", \"Default\", \"Default\", \"Default\", \"Default\", \"Default\", \"Default\", \"Default\", \"Default\", \"Default\", \"Default\", \"Default\", \"Default\", \"Default\", \"Default\", \"Default\", \"Default\", \"Default\", \"Default\", \"Topic1\", \"Topic1\", \"Topic1\", \"Topic1\", \"Topic1\", \"Topic1\", \"Topic1\", \"Topic1\", \"Topic1\", \"Topic1\", \"Topic1\", \"Topic1\", \"Topic1\", \"Topic1\", \"Topic1\", \"Topic1\", \"Topic1\", \"Topic1\", \"Topic1\", \"Topic1\", \"Topic1\", \"Topic1\", \"Topic1\", \"Topic1\", \"Topic1\", \"Topic1\", \"Topic1\", \"Topic1\", \"Topic1\", \"Topic1\", \"Topic1\", \"Topic1\", \"Topic1\", \"Topic1\", \"Topic1\", \"Topic1\", \"Topic1\", \"Topic1\", \"Topic1\", \"Topic1\", \"Topic1\", \"Topic1\", \"Topic1\", \"Topic1\", \"Topic1\", \"Topic1\", \"Topic1\", \"Topic1\", \"Topic1\", \"Topic1\", \"Topic2\", \"Topic2\", \"Topic2\", \"Topic2\", \"Topic2\", \"Topic2\", \"Topic2\", \"Topic2\", \"Topic2\", \"Topic2\", \"Topic2\", \"Topic2\", \"Topic2\", \"Topic2\", \"Topic2\", \"Topic2\", \"Topic2\", \"Topic2\", \"Topic2\", \"Topic2\", \"Topic2\", \"Topic2\", \"Topic2\", \"Topic2\", \"Topic2\", \"Topic2\", \"Topic2\", \"Topic2\", \"Topic2\", \"Topic2\", \"Topic2\", \"Topic2\", \"Topic2\", \"Topic2\", \"Topic2\", \"Topic2\", \"Topic2\", \"Topic2\", \"Topic2\", \"Topic2\", \"Topic2\", \"Topic2\", \"Topic2\", \"Topic2\", \"Topic2\", \"Topic2\", \"Topic2\", \"Topic3\", \"Topic3\", \"Topic3\", \"Topic3\", \"Topic3\", \"Topic3\", \"Topic3\", \"Topic3\", \"Topic3\", \"Topic3\", \"Topic3\", \"Topic3\", \"Topic3\", \"Topic3\", \"Topic3\", \"Topic3\", \"Topic3\", \"Topic3\", \"Topic3\", \"Topic3\", \"Topic3\", \"Topic3\", \"Topic3\", \"Topic3\", \"Topic3\", \"Topic3\", \"Topic3\", \"Topic3\", \"Topic3\", \"Topic3\", \"Topic3\", \"Topic3\", \"Topic3\", \"Topic3\", \"Topic3\", \"Topic3\", \"Topic3\", \"Topic3\", \"Topic3\", \"Topic3\", \"Topic3\", \"Topic3\", \"Topic3\", \"Topic3\", \"Topic3\", \"Topic3\", \"Topic3\", \"Topic3\", \"Topic3\", \"Topic3\", \"Topic3\", \"Topic3\", \"Topic3\", \"Topic4\", \"Topic4\", \"Topic4\", \"Topic4\", \"Topic4\", \"Topic4\", \"Topic4\", \"Topic4\", \"Topic4\", \"Topic4\", \"Topic4\", \"Topic4\", \"Topic4\", \"Topic4\", \"Topic4\", \"Topic4\", \"Topic4\", \"Topic4\", \"Topic4\", \"Topic4\", \"Topic4\", \"Topic4\", \"Topic4\", \"Topic4\", \"Topic4\", \"Topic4\", \"Topic4\", \"Topic4\", \"Topic4\", \"Topic4\", \"Topic4\", \"Topic4\", \"Topic4\", \"Topic4\", \"Topic4\", \"Topic4\", \"Topic4\", \"Topic4\", \"Topic4\", \"Topic4\", \"Topic4\", \"Topic4\", \"Topic4\", \"Topic4\", \"Topic4\"], \"logprob\": [30.0, 29.0, 28.0, 27.0, 26.0, 25.0, 24.0, 23.0, 22.0, 21.0, 20.0, 19.0, 18.0, 17.0, 16.0, 15.0, 14.0, 13.0, 12.0, 11.0, 10.0, 9.0, 8.0, 7.0, 6.0, 5.0, 4.0, 3.0, 2.0, 1.0, -8.2594, -8.181, -8.2273, -8.2738, -8.2681, -8.2821, -8.3514, -8.2849, -8.3349, -8.2775, -8.2056, -8.3137, -8.3174, -8.3093, -8.1755, -8.3679, -8.3835, -8.284, -8.396, -8.2823, -8.3238, -8.4095, -8.3136, -8.2765, -8.2465, -8.3289, -8.2845, -8.2737, -8.24, -8.2979, -8.2498, -8.2508, -8.3065, -8.2751, -8.2992, -8.2787, -8.2691, -8.2594, -8.2628, -8.2687, -8.2889, -8.2373, -8.2855, -8.2673, -8.2715, -8.2647, -8.2682, -8.2734, -8.2779, -8.2799, -8.2529, -8.1927, -8.2881, -8.2714, -8.2957, -8.2752, -8.2635, -8.2742, -8.2771, -8.2568, -8.3125, -8.3271, -8.2488, -8.2768, -8.2924, -8.2928, -8.19, -8.2602, -8.3601, -8.3785, -8.3092, -8.3045, -8.3602, -8.3087, -8.2788, -8.264, -8.3348, -8.2353, -8.2184, -8.3299, -8.2503, -8.2444, -8.268, -8.2533, -8.256, -8.2659, -8.2696, -8.2755, -8.2635, -8.2484, -8.2452, -8.2513, -8.2736, -8.2678, -8.2743, -8.2753, -8.2758, -8.1351, -8.2605, -8.2253, -8.2984, -8.3719, -8.3284, -8.2895, -8.2397, -8.266, -8.29, -8.2902, -8.2901, -8.2758, -8.3618, -8.3939, -8.2623, -8.2913, -8.282, -8.3081, -8.3071, -8.3317, -8.3284, -8.3696, -8.2976, -8.3701, -8.2717, -8.3215, -8.3876, -8.3264, -8.2708, -8.3043, -8.2741, -8.2753, -8.2776, -8.2984, -8.3094, -8.3004, -8.2972, -8.2663, -8.2895, -8.2673, -8.2439, -8.2648, -8.2679, -8.2866, -8.2799, -8.278, -8.27, -8.2874, -8.2834, -8.287, -8.2837, -8.2873, -8.2346, -8.2504, -8.1991, -8.2452, -8.2842, -8.3293, -8.2854, -8.1734, -8.2962, -8.3091, -8.3125, -8.2648, -8.2534, -8.2286, -8.2873, -8.2617, -8.3069, -8.3486, -8.2895, -8.2943, -8.3549, -8.3629, -8.2907, -8.3147, -8.3321, -8.2553, -8.3081, -8.2768, -8.2574, -8.2937, -8.2568, -8.2873, -8.282, -8.2676, -8.2421, -8.2862, -8.2847, -8.2615, -8.2768, -8.2825, -8.2809, -8.2883, -8.2785, -8.2882, -8.2878], \"loglift\": [30.0, 29.0, 28.0, 27.0, 26.0, 25.0, 24.0, 23.0, 22.0, 21.0, 20.0, 19.0, 18.0, 17.0, 16.0, 15.0, 14.0, 13.0, 12.0, 11.0, 10.0, 9.0, 8.0, 7.0, 6.0, 5.0, 4.0, 3.0, 2.0, 1.0, 0.2012, 0.1872, 0.1814, 0.1776, 0.1723, 0.1618, 0.1588, 0.1583, 0.1583, 0.158, 0.1576, 0.157, 0.1552, 0.1527, 0.1524, 0.1523, 0.1488, 0.1485, 0.1483, 0.1479, 0.1465, 0.1463, 0.1463, 0.1451, 0.1446, 0.1444, 0.1435, 0.1428, 0.1426, 0.1409, 0.1393, 0.1382, 0.1407, 0.1369, 0.1391, 0.1337, 0.1309, 0.1269, 0.125, 0.1267, 0.1341, 0.1013, 0.1313, 0.1134, 0.1161, 0.0976, 0.0929, 0.101, 0.1114, 0.1012, 0.234, 0.2074, 0.2021, 0.2018, 0.1993, 0.1987, 0.1966, 0.1927, 0.1867, 0.1846, 0.183, 0.1759, 0.1754, 0.1748, 0.1744, 0.1723, 0.1719, 0.171, 0.1683, 0.1677, 0.1673, 0.167, 0.1663, 0.1654, 0.1646, 0.1604, 0.1593, 0.1593, 0.1591, 0.1584, 0.1582, 0.1578, 0.1575, 0.1512, 0.1485, 0.15, 0.15, 0.1521, 0.1417, 0.1296, 0.111, 0.1174, 0.1324, 0.0896, 0.0793, 0.098, 0.067, 0.3368, 0.2478, 0.2297, 0.2247, 0.2209, 0.2192, 0.2164, 0.2083, 0.2078, 0.2067, 0.2055, 0.2043, 0.1945, 0.1936, 0.1891, 0.1887, 0.1879, 0.187, 0.1854, 0.1851, 0.1848, 0.1846, 0.1841, 0.184, 0.1836, 0.1826, 0.1823, 0.1819, 0.1815, 0.1804, 0.1792, 0.1767, 0.1759, 0.1751, 0.1759, 0.1767, 0.1733, 0.1694, 0.1539, 0.1632, 0.1458, 0.1191, 0.1374, 0.1397, 0.1552, 0.1394, 0.1193, 0.0937, 0.1434, 0.1113, 0.1337, 0.0871, 0.1014, 0.3166, 0.2475, 0.246, 0.2439, 0.2435, 0.2416, 0.2408, 0.2402, 0.2399, 0.2287, 0.2277, 0.2272, 0.2222, 0.2176, 0.2163, 0.2145, 0.213, 0.2114, 0.211, 0.211, 0.2097, 0.2078, 0.2044, 0.2041, 0.2002, 0.1994, 0.1974, 0.1969, 0.1929, 0.1923, 0.1922, 0.1907, 0.184, 0.1683, 0.1409, 0.1756, 0.1636, 0.1125, 0.1386, 0.153, 0.1478, 0.1668, 0.0601, 0.1147, 0.0858]}, \"token.table\": {\"Topic\": [1, 2, 3, 4, 1, 2, 3, 4, 1, 2, 3, 4, 1, 2, 3, 4, 1, 2, 3, 4, 1, 2, 3, 4, 1, 2, 3, 4, 1, 2, 3, 4, 1, 2, 3, 4, 1, 2, 3, 4, 1, 2, 3, 4, 1, 2, 3, 4, 1, 2, 3, 4, 1, 2, 3, 4, 1, 2, 3, 4, 1, 2, 3, 4, 1, 2, 3, 4, 1, 2, 3, 4, 1, 2, 3, 4, 1, 2, 3, 4, 1, 2, 3, 4, 1, 2, 3, 4, 1, 2, 3, 4, 1, 2, 3, 4, 1, 2, 3, 4, 1, 2, 3, 4, 1, 2, 3, 4, 1, 2, 3, 4, 1, 2, 3, 4, 1, 2, 3, 4, 1, 2, 3, 4, 1, 2, 3, 4, 1, 2, 3, 4, 1, 2, 3, 4, 1, 2, 3, 4, 1, 2, 3, 4, 1, 2, 3, 4, 1, 2, 3, 4, 1, 2, 3, 4, 1, 2, 3, 4, 1, 2, 3, 4, 1, 2, 3, 4, 1, 2, 3, 4, 1, 2, 3, 4, 1, 2, 3, 4, 1, 2, 3, 4, 1, 2, 3, 4, 1, 2, 3, 4, 1, 2, 3, 4, 1, 2, 3, 4, 1, 2, 3, 4, 1, 2, 3, 4, 1, 2, 3, 4, 1, 2, 3, 4, 1, 2, 3, 4, 1, 2, 3, 4, 1, 2, 3, 4, 1, 2, 3, 4, 1, 2, 3, 4, 1, 2, 3, 4, 1, 2, 3, 4, 1, 2, 3, 4, 1, 2, 3, 4, 1, 2, 3, 4, 1, 2, 3, 4, 1, 2, 3, 4, 1, 2, 3, 4, 1, 2, 3, 4, 1, 2, 3, 4, 1, 2, 3, 4, 1, 2, 3, 4, 1, 2, 3, 4, 1, 2, 3, 4, 1, 2, 3, 4, 1, 2, 3, 4, 1, 2, 3, 4, 1, 2, 3, 4, 1, 2, 3, 4, 1, 2, 3, 4, 1, 2, 3, 4, 1, 2, 3, 4, 1, 2, 3, 4, 1, 2, 3, 4, 1, 2, 3, 4, 1, 2, 3, 4, 1, 2, 3, 4, 1, 2, 3, 4, 1, 2, 3, 4, 1, 2, 3, 4, 1, 2, 3, 4, 1, 2, 3, 4, 1, 2, 3, 4, 1, 2, 3, 4, 1, 2, 3, 4, 1, 2, 3, 4, 1, 2, 3, 4, 1, 2, 3, 4, 1, 2, 3, 4, 1, 2, 3, 4, 1, 2, 3, 4, 1, 2, 3, 4, 1, 2, 3, 4, 1, 2, 3, 4, 1, 2, 3, 4, 1, 2, 3, 4, 1, 2, 3, 4, 1, 2, 3, 4, 1, 2, 3, 4, 1, 2, 3, 4, 1, 2, 3, 4, 1, 2, 3, 4, 1, 2, 3, 4, 1, 2, 3, 4, 1, 2, 3, 4, 1, 2, 3, 4, 1, 2, 3, 4, 1, 2, 3, 4, 1, 2, 3, 4, 1, 2, 3, 4, 1, 2, 3, 4, 1, 2, 3, 4, 1, 2, 3, 4, 1, 2, 3, 4, 1, 2, 3, 4, 1, 2, 3, 4, 1, 2, 3, 4, 1, 2, 3, 4, 1, 2, 3, 4, 1, 2, 3, 4, 1, 2, 3, 4, 1, 2, 3, 4, 1, 2, 3, 4, 1, 2, 3, 4, 1, 2, 3, 4, 1, 2, 3, 4, 1, 2, 3, 4, 1, 2, 3, 4, 1, 2, 3, 4, 1, 2, 3, 4, 1, 2, 3, 4, 1, 2, 3, 4, 1, 2, 3, 4, 1, 2, 3, 4, 1, 2, 3, 4, 1, 2, 3, 4, 1, 2, 3, 4, 1, 2, 3, 4, 1, 2, 3, 4, 1, 2, 3, 4, 1, 2, 3, 4, 1, 2, 3, 4, 1, 2, 3, 4, 1, 2, 3, 4, 1, 2, 3, 4, 1, 2, 3, 4, 1, 2, 3, 4, 1, 2, 3, 4, 1, 2, 3, 4, 1, 2, 3, 4, 1, 2, 3, 4, 1, 2, 3, 4, 1, 2, 3, 4, 1, 2, 3, 4, 1, 2, 3, 4, 1, 2, 3, 4, 1, 2, 3, 4, 1, 2, 3, 4, 1, 2, 3, 4, 1, 2, 3, 4, 1, 2, 3, 4, 1, 2, 3, 4, 1, 2, 3, 4, 1, 2, 3, 4, 1, 2, 3, 4, 1, 2, 3, 4, 1, 2, 3, 4, 1, 2, 3, 4, 1, 2, 3, 4, 1, 2, 3, 4, 1, 2, 3, 4, 1, 2, 3, 4, 1, 2, 3, 4, 1, 2, 3, 4, 1, 2, 3, 4, 1, 2, 3, 4, 1, 2, 3, 4, 1, 2, 3, 4, 1, 2, 3, 4, 1, 2, 3, 4, 1, 2, 3, 4, 1, 2, 3, 4, 1, 2, 3, 4, 1, 2, 3, 4, 1, 2, 3, 4, 1, 2, 3, 4, 1, 2, 3, 4, 1, 2, 3, 4, 1, 2, 3, 4, 1, 2, 3, 4, 1, 2, 3, 4, 1, 2, 3, 4, 1, 2, 3, 4, 1, 2, 3, 4], \"Freq\": [0.3256445762220301, 0.3256445762220301, 0.21709638414802004, 0.21709638414802004, 0.40658277188633973, 0.20329138594316987, 0.20329138594316987, 0.10164569297158493, 0.2996094663102768, 0.2996094663102768, 0.1997396442068512, 0.0998698221034256, 0.3166003455851332, 0.3166003455851332, 0.21106689705675546, 0.10553344852837773, 0.39597194418016995, 0.2969789581351274, 0.19798597209008498, 0.09899298604504249, 0.32316395575773704, 0.32316395575773704, 0.21544263717182469, 0.10772131858591234, 0.3049402157942431, 0.3049402157942431, 0.20329347719616206, 0.10164673859808103, 0.3330424683148563, 0.2220283122099042, 0.2220283122099042, 0.1110141561049521, 0.3136464216929367, 0.3136464216929367, 0.20909761446195782, 0.20909761446195782, 0.4695140811692213, 0.2817084487015328, 0.1878056324676885, 0.09390281623384425, 0.37430550195652956, 0.28072912646739717, 0.18715275097826478, 0.09357637548913239, 0.2992926088663863, 0.3990568118218484, 0.1995284059109242, 0.0997642029554621, 0.3928242094020526, 0.2946181570515395, 0.1964121047010263, 0.1964121047010263, 0.39759538677354084, 0.2981965400801556, 0.19879769338677042, 0.09939884669338521, 0.43256177994907574, 0.21628088997453787, 0.21628088997453787, 0.10814044498726894, 0.3131070063789654, 0.3131070063789654, 0.20873800425264358, 0.10436900212632179, 0.36522197131285367, 0.27391647848464024, 0.18261098565642683, 0.09130549282821342, 0.389993197816842, 0.2924948983626315, 0.194996598908421, 0.194996598908421, 0.3120734197000217, 0.3120734197000217, 0.20804894646668115, 0.10402447323334058, 0.30973672690866966, 0.30973672690866966, 0.20649115127244644, 0.20649115127244644, 0.32443550831390033, 0.32443550831390033, 0.21629033887593355, 0.21629033887593355, 0.3038442435741564, 0.4051256580988752, 0.2025628290494376, 0.1012814145247188, 0.30616021656611087, 0.30616021656611087, 0.2041068110440739, 0.10205340552203696, 0.3690735640258397, 0.27680517301937974, 0.18453678201291984, 0.18453678201291984, 0.3116682426768248, 0.3116682426768248, 0.20777882845121654, 0.10388941422560827, 0.3142853460101755, 0.3142853460101755, 0.20952356400678365, 0.20952356400678365, 0.39082045489725964, 0.29311534117294474, 0.19541022744862982, 0.09770511372431491, 0.39774061565719615, 0.2983054617428971, 0.19887030782859808, 0.19887030782859808, 0.31881780135141147, 0.31881780135141147, 0.21254520090094098, 0.21254520090094098, 0.39885881674257756, 0.2991441125569332, 0.19942940837128878, 0.09971470418564439, 0.3914822099738235, 0.2936116574803676, 0.09787055249345587, 0.09787055249345587, 0.33509127677356376, 0.2233941845157092, 0.2233941845157092, 0.2233941845157092, 0.316744991785923, 0.21116332785728203, 0.21116332785728203, 0.10558166392864102, 0.395701184367449, 0.1978505921837245, 0.1978505921837245, 0.09892529609186225, 0.45655710349863615, 0.2739342620991817, 0.18262284139945448, 0.09131142069972724, 0.3125616410084423, 0.3125616410084423, 0.20837442733896153, 0.20837442733896153, 0.3779327535548705, 0.2834495651661529, 0.18896637677743525, 0.09448318838871762, 0.4588913813854475, 0.2753348288312685, 0.183556552554179, 0.0917782762770895, 0.38723608952275884, 0.2904270671420691, 0.19361804476137942, 0.09680902238068971, 0.3718766066469822, 0.2789074549852366, 0.1859383033234911, 0.09296915166174555, 0.3193355680805986, 0.3193355680805986, 0.21289037872039904, 0.10644518936019952, 0.3127442666711146, 0.3127442666711146, 0.20849617778074306, 0.10424808889037153, 0.2962348093951305, 0.39497974586017404, 0.19748987293008702, 0.09874493646504351, 0.4210495198093312, 0.31578713985699836, 0.1052623799523328, 0.2105247599046656, 0.30379850446275464, 0.30379850446275464, 0.20253233630850312, 0.10126616815425156, 0.3224638146232826, 0.3224638146232826, 0.21497587641552177, 0.21497587641552177, 0.3987786313072707, 0.299083973480453, 0.19938931565363535, 0.09969465782681768, 0.29125874204109414, 0.38834498938812556, 0.19417249469406278, 0.09708624734703139, 0.3052994227143995, 0.4070658969525327, 0.20353294847626635, 0.10176647423813318, 0.30898699466789514, 0.30898699466789514, 0.20599132977859677, 0.10299566488929839, 0.2932189380987926, 0.3909585841317235, 0.19547929206586176, 0.09773964603293088, 0.3017014409320517, 0.3017014409320517, 0.20113429395470114, 0.20113429395470114, 0.30007423929111293, 0.30007423929111293, 0.20004949286074195, 0.10002474643037097, 0.33354244188970383, 0.33354244188970383, 0.2223616279264692, 0.2223616279264692, 0.30610258071430646, 0.40813677428574197, 0.20406838714287098, 0.10203419357143549, 0.379814954714411, 0.2848612160358083, 0.1899074773572055, 0.09495373867860275, 0.30582477430022753, 0.40776636573363667, 0.20388318286681834, 0.10194159143340917, 0.3023255964874525, 0.3023255964874525, 0.20155039765830168, 0.20155039765830168, 0.30594641448777293, 0.30594641448777293, 0.20396427632518196, 0.10198213816259098, 0.4067597769158759, 0.3050698326869069, 0.20337988845793795, 0.10168994422896897, 0.4004226151441011, 0.30031696135807584, 0.20021130757205055, 0.20021130757205055, 0.36940320724357883, 0.2770524054326841, 0.18470160362178942, 0.09235080181089471, 0.3289500196766708, 0.3289500196766708, 0.21930001311778055, 0.10965000655889028, 0.39887575711236384, 0.2991568178342729, 0.19943787855618192, 0.09971893927809096, 0.3029601677389185, 0.40394689031855796, 0.20197344515927898, 0.10098672257963949, 0.2898534006892378, 0.3864712009189838, 0.1932356004594919, 0.09661780022974595, 0.3822344586716931, 0.3822344586716931, 0.19111722933584654, 0.09555861466792327, 0.42311923124813655, 0.31733942343610244, 0.21155961562406828, 0.10577980781203414, 0.3001921629304366, 0.3001921629304366, 0.20012810862029107, 0.20012810862029107, 0.3707148014020306, 0.3707148014020306, 0.1853574007010153, 0.09267870035050765, 0.3617649144753788, 0.3617649144753788, 0.1808824572376894, 0.0904412286188447, 0.3229491015484893, 0.3229491015484893, 0.21529940103232623, 0.21529940103232623, 0.3150660220498313, 0.4200880293997751, 0.21004401469988754, 0.10502200734994377, 0.290037718705565, 0.290037718705565, 0.19335847913704332, 0.09667923956852166, 0.37696635619195445, 0.2827247671439658, 0.18848317809597723, 0.09424158904798861, 0.442864636982913, 0.2214323184914565, 0.2214323184914565, 0.11071615924572825, 0.2735944396295655, 0.364792586172754, 0.182396293086377, 0.0911981465431885, 0.3789501499388309, 0.28421261245412316, 0.18947507496941546, 0.09473753748470773, 0.40600479581434024, 0.3045035968607552, 0.20300239790717012, 0.10150119895358506, 0.43778827402959625, 0.3283412055221972, 0.10944706850739906, 0.10944706850739906, 0.3690050869633263, 0.3690050869633263, 0.18450254348166314, 0.09225127174083157, 0.32254486017917083, 0.32254486017917083, 0.10751495339305694, 0.10751495339305694, 0.3104612295144626, 0.3104612295144626, 0.20697415300964175, 0.10348707650482088, 0.3182075368115543, 0.3182075368115543, 0.21213835787436955, 0.10606917893718477, 0.3627407394224524, 0.3627407394224524, 0.1813703697112262, 0.0906851848556131, 0.4026331576392335, 0.30197486822942515, 0.20131657881961676, 0.10065828940980838, 0.3717201836464906, 0.278790137734868, 0.1858600918232453, 0.09293004591162266, 0.2996077020713891, 0.2996077020713891, 0.19973846804759274, 0.09986923402379637, 0.4031721753340662, 0.3023791315005496, 0.2015860876670331, 0.10079304383351655, 0.3446609615651348, 0.3446609615651348, 0.22977397437675653, 0.11488698718837827, 0.31070159585430424, 0.31070159585430424, 0.20713439723620283, 0.20713439723620283, 0.3868741727810567, 0.2901556295857925, 0.19343708639052834, 0.09671854319526417, 0.4079488826275661, 0.3059616619706746, 0.20397444131378306, 0.20397444131378306, 0.3672801901059046, 0.3672801901059046, 0.1836400950529523, 0.09182004752647616, 0.3806551489394699, 0.3806551489394699, 0.19032757446973494, 0.09516378723486747, 0.2855234847876615, 0.38069797971688196, 0.19034898985844098, 0.09517449492922049, 0.2944720947324866, 0.2944720947324866, 0.19631472982165774, 0.19631472982165774, 0.3835380449011127, 0.2876535336758345, 0.19176902245055635, 0.09588451122527818, 0.3269967137255067, 0.3269967137255067, 0.21799780915033778, 0.21799780915033778, 0.37487628045659893, 0.2811572103424492, 0.18743814022829947, 0.09371907011414973, 0.3989659692010737, 0.2992244769008053, 0.19948298460053684, 0.09974149230026842, 0.4097465653196246, 0.30730992398971846, 0.2048732826598123, 0.2048732826598123, 0.3152391895217759, 0.3152391895217759, 0.21015945968118394, 0.21015945968118394, 0.37469846240230686, 0.28102384680173015, 0.18734923120115343, 0.09367461560057672, 0.37484656992949555, 0.28113492744712165, 0.18742328496474778, 0.09371164248237389, 0.3853934999589527, 0.28904512496921453, 0.19269674997947636, 0.09634837498973818, 0.31002076011011825, 0.4133610134801577, 0.20668050674007885, 0.10334025337003942, 0.4407598260594205, 0.2644558956356523, 0.17630393042376818, 0.08815196521188409, 0.3837157363216907, 0.287786802241268, 0.19185786816084535, 0.09592893408042268, 0.44549319427865436, 0.2672959165671926, 0.17819727771146174, 0.17819727771146174, 0.3968765885849754, 0.2976574414387316, 0.1984382942924877, 0.1984382942924877, 0.30602993100546527, 0.408039908007287, 0.2040199540036435, 0.10200997700182175, 0.3800753944217925, 0.2850565458163444, 0.19003769721089625, 0.19003769721089625, 0.3033576923105907, 0.40447692308078753, 0.20223846154039377, 0.10111923077019688, 0.31256736301286686, 0.4167564840171558, 0.2083782420085779, 0.10418912100428895, 0.337118679243995, 0.337118679243995, 0.22474578616266336, 0.22474578616266336, 0.31899097074195326, 0.31899097074195326, 0.21266064716130217, 0.10633032358065109, 0.3097656767872296, 0.3097656767872296, 0.2065104511914864, 0.2065104511914864, 0.4023589491288629, 0.3017692118466471, 0.20117947456443144, 0.10058973728221572, 0.3951412434215942, 0.29635593256619563, 0.1975706217107971, 0.09878531085539854, 0.39057417720420334, 0.2929306329031525, 0.19528708860210167, 0.09764354430105084, 0.2887792055311324, 0.3850389407081765, 0.19251947035408826, 0.09625973517704413, 0.3848300960053707, 0.288622572004028, 0.19241504800268536, 0.19241504800268536, 0.296835895621264, 0.39578119416168533, 0.19789059708084267, 0.09894529854042133, 0.3743830040799203, 0.28078725305994023, 0.18719150203996016, 0.09359575101998008, 0.3705226241859433, 0.3705226241859433, 0.18526131209297164, 0.09263065604648582, 0.39727695060775337, 0.297957712955815, 0.19863847530387668, 0.09931923765193834, 0.31595598220503684, 0.31595598220503684, 0.21063732147002456, 0.10531866073501228, 0.3201044443544577, 0.3201044443544577, 0.21340296290297175, 0.21340296290297175, 0.4778407942496696, 0.28670447654980175, 0.19113631769986783, 0.09556815884993392, 0.3738169906066097, 0.2803627429549573, 0.18690849530330486, 0.09345424765165243, 0.39850861832523476, 0.29888146374392605, 0.19925430916261738, 0.19925430916261738, 0.3578943672969937, 0.3578943672969937, 0.17894718364849685, 0.08947359182424842, 0.3680741870715464, 0.2760556403036598, 0.1840370935357732, 0.0920185467678866, 0.3812628737304389, 0.3812628737304389, 0.19063143686521944, 0.09531571843260972, 0.3018302705855997, 0.4024403607807996, 0.2012201803903998, 0.1006100901951999, 0.3262162254106563, 0.3262162254106563, 0.2174774836071042, 0.2174774836071042, 0.3863425333956076, 0.28975690004670573, 0.1931712666978038, 0.0965856333489019, 0.31106054219940615, 0.4147473895992082, 0.2073736947996041, 0.10368684739980205, 0.42738560498815975, 0.32053920374111977, 0.21369280249407988, 0.10684640124703994, 0.37978945197795383, 0.37978945197795383, 0.18989472598897691, 0.09494736299448846, 0.30837989538373195, 0.30837989538373195, 0.20558659692248796, 0.10279329846124398, 0.3116075659246047, 0.3116075659246047, 0.2077383772830698, 0.2077383772830698, 0.3839690465840671, 0.28797678493805035, 0.19198452329203355, 0.09599226164601678, 0.374960065143166, 0.2812200488573745, 0.187480032571583, 0.187480032571583, 0.38526663448357523, 0.2889499758626814, 0.19263331724178762, 0.09631665862089381, 0.30387821811964005, 0.40517095749285337, 0.20258547874642668, 0.10129273937321334, 0.2857252932784952, 0.3809670577046603, 0.19048352885233014, 0.09524176442616507, 0.3036170676784171, 0.3036170676784171, 0.20241137845227808, 0.20241137845227808, 0.2973290498035837, 0.2973290498035837, 0.19821936653572247, 0.19821936653572247, 0.3818622290251983, 0.2863966717688987, 0.19093111451259914, 0.09546555725629957, 0.3841552938719224, 0.2881164704039418, 0.1920776469359612, 0.1920776469359612, 0.3937717609035814, 0.29532882067768607, 0.1968858804517907, 0.09844294022589535, 0.3314448974947872, 0.3314448974947872, 0.2209632649965248, 0.1104816324982624, 0.41793903480770195, 0.3134542761057765, 0.20896951740385097, 0.20896951740385097, 0.33143210187402805, 0.33143210187402805, 0.22095473458268536, 0.11047736729134268, 0.37723259019195093, 0.2829244426439632, 0.18861629509597547, 0.09430814754798773, 0.37691093440028006, 0.37691093440028006, 0.18845546720014003, 0.09422773360007002, 0.31227474099930375, 0.31227474099930375, 0.2081831606662025, 0.10409158033310124, 0.3147921588321309, 0.3147921588321309, 0.2098614392214206, 0.2098614392214206, 0.28425821594402795, 0.3790109545920372, 0.1895054772960186, 0.0947527386480093, 0.3631338723118016, 0.3631338723118016, 0.1815669361559008, 0.0907834680779504, 0.3199779946705678, 0.3199779946705678, 0.21331866311371186, 0.21331866311371186, 0.2915648170213203, 0.38875308936176045, 0.19437654468088023, 0.09718827234044011, 0.33202624862032976, 0.33202624862032976, 0.22135083241355316, 0.11067541620677658, 0.4075007802322518, 0.30562558517418886, 0.2037503901161259, 0.10187519505806295, 0.3895814425119107, 0.3895814425119107, 0.19479072125595534, 0.09739536062797767, 0.3068075864085243, 0.4090767818780324, 0.2045383909390162, 0.1022691954695081, 0.3644877713067039, 0.27336582848002794, 0.18224388565335195, 0.18224388565335195, 0.4077809003321315, 0.3058356752490986, 0.20389045016606575, 0.10194522508303287, 0.3294361155928914, 0.3294361155928914, 0.21962407706192758, 0.10981203853096379, 0.30763106653017175, 0.30763106653017175, 0.20508737768678117, 0.10254368884339059, 0.3054111127189771, 0.3054111127189771, 0.3054111127189771, 0.10180370423965902, 0.337169813202616, 0.337169813202616, 0.11238993773420534, 0.2247798754684107, 0.3654525384853915, 0.2740894038640436, 0.18272626924269575, 0.09136313462134787, 0.39458701776321187, 0.2959402633224089, 0.19729350888160593, 0.09864675444080297, 0.33062624246503103, 0.33062624246503103, 0.11020874748834367, 0.22041749497668733, 0.3065626100984025, 0.3065626100984025, 0.20437507339893501, 0.20437507339893501, 0.3413083436017759, 0.3413083436017759, 0.22753889573451727, 0.11376944786725864, 0.3126797504353318, 0.41690633391377574, 0.20845316695688787, 0.10422658347844393, 0.39398218764378534, 0.295486640732839, 0.19699109382189267, 0.09849554691094634, 0.36922780594019716, 0.36922780594019716, 0.18461390297009858, 0.18461390297009858, 0.3153007498441851, 0.3153007498441851, 0.2102004998961234, 0.1051002499480617, 0.41598347722110934, 0.311987607915832, 0.20799173861055467, 0.10399586930527734, 0.38777643023414665, 0.29083232267561, 0.19388821511707333, 0.09694410755853666, 0.311943022781407, 0.311943022781407, 0.20796201518760468, 0.20796201518760468, 0.36493822476572535, 0.36493822476572535, 0.18246911238286267, 0.09123455619143134, 0.3067373859685055, 0.3067373859685055, 0.20449159064567035, 0.20449159064567035, 0.30598498801987556, 0.30598498801987556, 0.20398999201325035, 0.10199499600662518, 0.3204263483153049, 0.3204263483153049, 0.2136175655435366, 0.2136175655435366, 0.3367491975730726, 0.3367491975730726, 0.22449946504871507, 0.11224973252435753, 0.3214768420751179, 0.3214768420751179, 0.21431789471674526, 0.10715894735837263, 0.3979896713209863, 0.2984922534907397, 0.19899483566049314, 0.19899483566049314, 0.398719753866415, 0.2990398153998113, 0.1993598769332075, 0.09967993846660375, 0.3158504678861243, 0.3158504678861243, 0.21056697859074955, 0.21056697859074955, 0.3002946048468456, 0.3002946048468456, 0.20019640323123042, 0.10009820161561521, 0.3123575871051028, 0.3123575871051028, 0.2082383914034019, 0.10411919570170095, 0.3882486674982955, 0.3882486674982955, 0.19412433374914775, 0.09706216687457388, 0.39265412764117846, 0.2944905957308838, 0.19632706382058923, 0.09816353191029462, 0.3897424521198356, 0.2923068390898767, 0.1948712260599178, 0.0974356130299589, 0.37259337344158205, 0.27944503008118654, 0.18629668672079103, 0.18629668672079103, 0.4655710587878047, 0.2793426352726828, 0.18622842351512187, 0.09311421175756093, 0.31993995408001175, 0.31993995408001175, 0.21329330272000785, 0.21329330272000785], \"Term\": [\"10min\", \"10min\", \"10min\", \"10min\", \"110\", \"110\", \"110\", \"110\", \"149hk\", \"149hk\", \"149hk\", \"149hk\", \"200\", \"200\", \"200\", \"200\", \"2006\", \"2006\", \"2006\", \"2006\", \"2012\", \"2012\", \"2012\", \"2012\", \"30min\", \"30min\", \"30min\", \"30min\", \"31\", \"31\", \"31\", \"31\", \"3rd\", \"3rd\", \"3rd\", \"3rd\", \"4x\", \"4x\", \"4x\", \"4x\", \"600hk\", \"600hk\", \"600hk\", \"600hk\", \"72\", \"72\", \"72\", \"72\", \"8am\", \"8am\", \"8am\", \"8am\", \"8yrs\", \"8yrs\", \"8yrs\", \"8yrs\", \"98\", \"98\", \"98\", \"98\", \"a21\", \"a21\", \"a21\", \"a21\", \"absorb\", \"absorb\", \"absorb\", \"absorb\", \"acted\", \"acted\", \"acted\", \"acted\", \"affair\", \"affair\", \"affair\", \"affair\", \"agitated\", \"agitated\", \"agitated\", \"agitated\", \"another\", \"another\", \"another\", \"another\", \"approachable\", \"approachable\", \"approachable\", \"approachable\", \"assist\", \"assist\", \"assist\", \"assist\", \"behaviour\", \"behaviour\", \"behaviour\", \"behaviour\", \"benefited\", \"benefited\", \"benefited\", \"benefited\", \"blast\", \"blast\", \"blast\", \"blast\", \"board\", \"board\", \"board\", \"board\", \"boy\", \"boy\", \"boy\", \"boy\", \"breeze\", \"breeze\", \"breeze\", \"breeze\", \"brilliant\", \"brilliant\", \"brilliant\", \"brilliant\", \"burn\", \"burn\", \"burn\", \"burn\", \"busier\", \"busier\", \"busier\", \"busier\", \"cabin\", \"cabin\", \"cabin\", \"cabin\", \"card\", \"card\", \"card\", \"card\", \"castor\", \"castor\", \"castor\", \"castor\", \"cctv\", \"cctv\", \"cctv\", \"cctv\", \"ceremonial\", \"ceremonial\", \"ceremonial\", \"ceremonial\", \"certain\", \"certain\", \"certain\", \"certain\", \"chance\", \"chance\", \"chance\", \"chance\", \"cheapest\", \"cheapest\", \"cheapest\", \"cheapest\", \"commute\", \"commute\", \"commute\", \"commute\", \"compelling\", \"compelling\", \"compelling\", \"compelling\", \"concierge\", \"concierge\", \"concierge\", \"concierge\", \"conditioned\", \"conditioned\", \"conditioned\", \"conditioned\", \"corn\", \"corn\", \"corn\", \"corn\", \"corporation\", \"corporation\", \"corporation\", \"corporation\", \"creates\", \"creates\", \"creates\", \"creates\", \"damage\", \"damage\", \"damage\", \"damage\", \"daytime\", \"daytime\", \"daytime\", \"daytime\", \"delivered\", \"delivered\", \"delivered\", \"delivered\", \"disappointing\", \"disappointing\", \"disappointing\", \"disappointing\", \"discipline\", \"discipline\", \"discipline\", \"discipline\", \"discover\", \"discover\", \"discover\", \"discover\", \"document\", \"document\", \"document\", \"document\", \"downloaded\", \"downloaded\", \"downloaded\", \"downloaded\", \"early\", \"early\", \"early\", \"early\", \"effortless\", \"effortless\", \"effortless\", \"effortless\", \"engage\", \"engage\", \"engage\", \"engage\", \"engineering\", \"engineering\", \"engineering\", \"engineering\", \"entail\", \"entail\", \"entail\", \"entail\", \"essential\", \"essential\", \"essential\", \"essential\", \"eternally\", \"eternally\", \"eternally\", \"eternally\", \"eve\", \"eve\", \"eve\", \"eve\", \"evenhave\", \"evenhave\", \"evenhave\", \"evenhave\", \"evening\", \"evening\", \"evening\", \"evening\", \"everyone\", \"everyone\", \"everyone\", \"everyone\", \"excel\", \"excel\", \"excel\", \"excel\", \"exchanged\", \"exchanged\", \"exchanged\", \"exchanged\", \"exercise\", \"exercise\", \"exercise\", \"exercise\", \"exhausting\", \"exhausting\", \"exhausting\", \"exhausting\", \"expensively\", \"expensively\", \"expensively\", \"expensively\", \"explaining\", \"explaining\", \"explaining\", \"explaining\", \"facility\", \"facility\", \"facility\", \"facility\", \"fainted\", \"fainted\", \"fainted\", \"fainted\", \"fam\", \"fam\", \"fam\", \"fam\", \"famous\", \"famous\", \"famous\", \"famous\", \"figurine\", \"figurine\", \"figurine\", \"figurine\", \"finest\", \"finest\", \"finest\", \"finest\", \"fit\", \"fit\", \"fit\", \"fit\", \"flew\", \"flew\", \"flew\", \"flew\", \"food\", \"food\", \"food\", \"food\", \"foodieandmoody\", \"foodieandmoody\", \"foodieandmoody\", \"foodieandmoody\", \"forward\", \"forward\", \"forward\", \"forward\", \"framed\", \"framed\", \"framed\", \"framed\", \"galore\", \"galore\", \"galore\", \"galore\", \"govt\", \"govt\", \"govt\", \"govt\", \"greatest\", \"greatest\", \"greatest\", \"greatest\", \"greatings\", \"greatings\", \"greatings\", \"greatings\", \"grey\", \"grey\", \"grey\", \"grey\", \"grizzly\", \"grizzly\", \"grizzly\", \"grizzly\", \"hehehe\", \"hehehe\", \"hehehe\", \"hehehe\", \"herald\", \"herald\", \"herald\", \"herald\", \"hoisted\", \"hoisted\", \"hoisted\", \"hoisted\", \"hood\", \"hood\", \"hood\", \"hood\", \"hop\", \"hop\", \"hop\", \"hop\", \"ignored\", \"ignored\", \"ignored\", \"ignored\", \"indian\", \"indian\", \"indian\", \"indian\", \"information\", \"information\", \"information\", \"information\", \"instant\", \"instant\", \"instant\", \"instant\", \"intimation\", \"intimation\", \"intimation\", \"intimation\", \"iphone\", \"iphone\", \"iphone\", \"iphone\", \"jakarta\", \"jakarta\", \"jakarta\", \"jakarta\", \"jaw\", \"jaw\", \"jaw\", \"jaw\", \"jelly\", \"jelly\", \"jelly\", \"jelly\", \"july\", \"july\", \"july\", \"july\", \"knowing\", \"knowing\", \"knowing\", \"knowing\", \"lacking\", \"lacking\", \"lacking\", \"lacking\", \"lantau\", \"lantau\", \"lantau\", \"lantau\", \"list\", \"list\", \"list\", \"list\", \"lit\", \"lit\", \"lit\", \"lit\", \"losing\", \"losing\", \"losing\", \"losing\", \"maintain\", \"maintain\", \"maintain\", \"maintain\", \"marginally\", \"marginally\", \"marginally\", \"marginally\", \"max\", \"max\", \"max\", \"max\", \"maze\", \"maze\", \"maze\", \"maze\", \"mickeying\", \"mickeying\", \"mickeying\", \"mickeying\", \"middle\", \"middle\", \"middle\", \"middle\", \"mini\", \"mini\", \"mini\", \"mini\", \"much\", \"much\", \"much\", \"much\", \"mytic\", \"mytic\", \"mytic\", \"mytic\", \"nice\", \"nice\", \"nice\", \"nice\", \"norm\", \"norm\", \"norm\", \"norm\", \"notice\", \"notice\", \"notice\", \"notice\", \"organised\", \"organised\", \"organised\", \"organised\", \"outer\", \"outer\", \"outer\", \"outer\", \"perfect\", \"perfect\", \"perfect\", \"perfect\", \"popularity\", \"popularity\", \"popularity\", \"popularity\", \"possibly\", \"possibly\", \"possibly\", \"possibly\", \"praiseworthy\", \"praiseworthy\", \"praiseworthy\", \"praiseworthy\", \"precious\", \"precious\", \"precious\", \"precious\", \"presence\", \"presence\", \"presence\", \"presence\", \"prevent\", \"prevent\", \"prevent\", \"prevent\", \"promos\", \"promos\", \"promos\", \"promos\", \"prop\", \"prop\", \"prop\", \"prop\", \"q\", \"q\", \"q\", \"q\", \"ques\", \"ques\", \"ques\", \"ques\", \"r2\", \"r2\", \"r2\", \"r2\", \"ranger\", \"ranger\", \"ranger\", \"ranger\", \"realize\", \"realize\", \"realize\", \"realize\", \"reference\", \"reference\", \"reference\", \"reference\", \"refund\", \"refund\", \"refund\", \"refund\", \"remarkable\", \"remarkable\", \"remarkable\", \"remarkable\", \"restaurant\", \"restaurant\", \"restaurant\", \"restaurant\", \"resteraunts\", \"resteraunts\", \"resteraunts\", \"resteraunts\", \"retreat\", \"retreat\", \"retreat\", \"retreat\", \"returned\", \"returned\", \"returned\", \"returned\", \"rider\", \"rider\", \"rider\", \"rider\", \"rollercoasters\", \"rollercoasters\", \"rollercoasters\", \"rollercoasters\", \"rough\", \"rough\", \"rough\", \"rough\", \"rushing\", \"rushing\", \"rushing\", \"rushing\", \"sake\", \"sake\", \"sake\", \"sake\", \"saloon\", \"saloon\", \"saloon\", \"saloon\", \"saved\", \"saved\", \"saved\", \"saved\", \"say\", \"say\", \"say\", \"say\", \"seemed\", \"seemed\", \"seemed\", \"seemed\", \"shade\", \"shade\", \"shade\", \"shade\", \"share\", \"share\", \"share\", \"share\", \"shoe\", \"shoe\", \"shoe\", \"shoe\", \"showcase\", \"showcase\", \"showcase\", \"showcase\", \"spare\", \"spare\", \"spare\", \"spare\", \"spectacular\", \"spectacular\", \"spectacular\", \"spectacular\", \"spring\", \"spring\", \"spring\", \"spring\", \"stall\", \"stall\", \"stall\", \"stall\", \"starlight\", \"starlight\", \"starlight\", \"starlight\", \"stop\", \"stop\", \"stop\", \"stop\", \"storage\", \"storage\", \"storage\", \"storage\", \"strange\", \"strange\", \"strange\", \"strange\", \"strike\", \"strike\", \"strike\", \"strike\", \"student\", \"student\", \"student\", \"student\", \"stumbled\", \"stumbled\", \"stumbled\", \"stumbled\", \"stunning\", \"stunning\", \"stunning\", \"stunning\", \"subtitle\", \"subtitle\", \"subtitle\", \"subtitle\", \"surfing\", \"surfing\", \"surfing\", \"surfing\", \"suspiciously\", \"suspiciously\", \"suspiciously\", \"suspiciously\", \"sydney\", \"sydney\", \"sydney\", \"sydney\", \"tai\", \"tai\", \"tai\", \"tai\", \"team\", \"team\", \"team\", \"team\", \"think\", \"think\", \"think\", \"think\", \"throughout\", \"throughout\", \"throughout\", \"throughout\", \"tigger\", \"tigger\", \"tigger\", \"tigger\", \"timesthe\", \"timesthe\", \"timesthe\", \"timesthe\", \"tired\", \"tired\", \"tired\", \"tired\", \"tiresome\", \"tiresome\", \"tiresome\", \"tiresome\", \"toll\", \"toll\", \"toll\", \"toll\", \"traditionally\", \"traditionally\", \"traditionally\", \"traditionally\", \"trash\", \"trash\", \"trash\", \"trash\", \"twenty\", \"twenty\", \"twenty\", \"twenty\", \"unable\", \"unable\", \"unable\", \"unable\", \"uncle\", \"uncle\", \"uncle\", \"uncle\", \"understandable\", \"understandable\", \"understandable\", \"understandable\", \"update\", \"update\", \"update\", \"update\", \"updating\", \"updating\", \"updating\", \"updating\", \"ups\", \"ups\", \"ups\", \"ups\", \"varying\", \"varying\", \"varying\", \"varying\", \"virtual\", \"virtual\", \"virtual\", \"virtual\", \"vist\", \"vist\", \"vist\", \"vist\", \"void\", \"void\", \"void\", \"void\", \"walk\", \"walk\", \"walk\", \"walk\", \"wear\", \"wear\", \"wear\", \"wear\", \"wich\", \"wich\", \"wich\", \"wich\", \"wild\", \"wild\", \"wild\", \"wild\", \"wonderfully\", \"wonderfully\", \"wonderfully\", \"wonderfully\", \"yikes\", \"yikes\", \"yikes\", \"yikes\"]}, \"R\": 30, \"lambda.step\": 0.01, \"plot.opts\": {\"xlab\": \"PC1\", \"ylab\": \"PC2\"}, \"topic.order\": [1, 4, 2, 3]};\n",
              "\n",
              "function LDAvis_load_lib(url, callback){\n",
              "  var s = document.createElement('script');\n",
              "  s.src = url;\n",
              "  s.async = true;\n",
              "  s.onreadystatechange = s.onload = callback;\n",
              "  s.onerror = function(){console.warn(\"failed to load library \" + url);};\n",
              "  document.getElementsByTagName(\"head\")[0].appendChild(s);\n",
              "}\n",
              "\n",
              "if(typeof(LDAvis) !== \"undefined\"){\n",
              "   // already loaded: just create the visualization\n",
              "   !function(LDAvis){\n",
              "       new LDAvis(\"#\" + \"ldavis_el3561402183168980001829860942\", ldavis_el3561402183168980001829860942_data);\n",
              "   }(LDAvis);\n",
              "}else if(typeof define === \"function\" && define.amd){\n",
              "   // require.js is available: use it to load d3/LDAvis\n",
              "   require.config({paths: {d3: \"https://d3js.org/d3.v5\"}});\n",
              "   require([\"d3\"], function(d3){\n",
              "      window.d3 = d3;\n",
              "      LDAvis_load_lib(\"https://cdn.jsdelivr.net/gh/bmabey/pyLDAvis@3.3.1/pyLDAvis/js/ldavis.v3.0.0.js\", function(){\n",
              "        new LDAvis(\"#\" + \"ldavis_el3561402183168980001829860942\", ldavis_el3561402183168980001829860942_data);\n",
              "      });\n",
              "    });\n",
              "}else{\n",
              "    // require.js not available: dynamically load d3 & LDAvis\n",
              "    LDAvis_load_lib(\"https://d3js.org/d3.v5.js\", function(){\n",
              "         LDAvis_load_lib(\"https://cdn.jsdelivr.net/gh/bmabey/pyLDAvis@3.3.1/pyLDAvis/js/ldavis.v3.0.0.js\", function(){\n",
              "                 new LDAvis(\"#\" + \"ldavis_el3561402183168980001829860942\", ldavis_el3561402183168980001829860942_data);\n",
              "            })\n",
              "         });\n",
              "}\n",
              "</script>"
            ],
            "text/plain": [
              "PreparedData(topic_coordinates=              x         y  topics  cluster       Freq\n",
              "topic                                                \n",
              "0     -0.000257 -0.000754       1        1  36.655439\n",
              "3      0.001005  0.000074       2        1  30.905919\n",
              "1     -0.000389  0.000799       3        1  18.641129\n",
              "2     -0.000359 -0.000119       4        1  13.797512, topic_info=            Term       Freq      Total Category  logprob  loglift\n",
              "4058     surfing   9.000000   9.000000  Default  30.0000  30.0000\n",
              "960       saloon  10.000000  10.000000  Default  29.0000  29.0000\n",
              "2347        mini   9.000000   9.000000  Default  28.0000  28.0000\n",
              "1116         8am  10.000000  10.000000  Default  27.0000  27.0000\n",
              "3455        team   9.000000   9.000000  Default  26.0000  26.0000\n",
              "...          ...        ...        ...      ...      ...      ...\n",
              "4745       acted   1.640608  10.256589   Topic4  -8.2809   0.1478\n",
              "4635   essential   1.628471   9.989446   Topic4  -8.2883   0.1668\n",
              "2821         lit   1.644489  11.223516   Topic4  -8.2785   0.0601\n",
              "4295  marginally   1.628589  10.524228   Topic4  -8.2882   0.1147\n",
              "3194   behaviour   1.629300  10.837948   Topic4  -8.2878   0.0858\n",
              "\n",
              "[225 rows x 6 columns], token_table=      Topic      Freq         Term\n",
              "term                              \n",
              "2543      1  0.325645        10min\n",
              "2543      2  0.325645        10min\n",
              "2543      3  0.217096        10min\n",
              "2543      4  0.217096        10min\n",
              "3374      1  0.406583          110\n",
              "...     ...       ...          ...\n",
              "2750      4  0.093114  wonderfully\n",
              "3492      1  0.319940        yikes\n",
              "3492      2  0.319940        yikes\n",
              "3492      3  0.213293        yikes\n",
              "3492      4  0.213293        yikes\n",
              "\n",
              "[812 rows x 3 columns], R=30, lambda_step=0.01, plot_opts={'xlab': 'PC1', 'ylab': 'PC2'}, topic_order=[1, 4, 2, 3])"
            ]
          },
          "metadata": {},
          "execution_count": 19
        }
      ]
    },
    {
      "cell_type": "code",
      "source": [
        ""
      ],
      "metadata": {
        "id": "P8_rENxuPTRC"
      },
      "execution_count": null,
      "outputs": []
    }
  ],
  "metadata": {
    "colab": {
      "name": "LDA.ipynb",
      "provenance": []
    },
    "kernelspec": {
      "display_name": "Python 3",
      "name": "python3"
    },
    "language_info": {
      "name": "python"
    }
  },
  "nbformat": 4,
  "nbformat_minor": 0
}